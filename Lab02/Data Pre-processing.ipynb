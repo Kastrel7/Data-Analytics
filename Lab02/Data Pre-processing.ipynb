{
 "cells": [
  {
   "cell_type": "markdown",
   "id": "29e31c58-71f3-4f9c-9931-af5f98d8493b",
   "metadata": {},
   "source": [
    "<H1>Lab Exercise 2: Data Pre-Processing and Analysis</H1>\n",
    "<p>\n",
    "Objective\n",
    "In this lab, you will apply data pre-processing techniques such as handling missing data, cleaning noisy data, data transformation, and discretisation. You will work with three datasets.\n",
    "</p>\n",
    "<H2>Datasets</H2>\n",
    "<p>\n",
    "crime_data.csv - Crime statistics for US states.\n",
    "bridges_data.csv - Bridges in Pittsburgh.\n",
    "child_mortality.csv - Child mortality statistics over the years.\n",
    "</p>"
   ]
  },
  {
   "cell_type": "markdown",
   "id": "4f5bf7c6-c0e1-4cc2-97db-f49a66a126b5",
   "metadata": {},
   "source": [
    "<H1>Part 1: Crime Statistics (crime_data.csv)</H1>\n",
    "You will be working with a dataset containing crime statistics, including murder rates, assault rates, and the percentage of the population living in urban areas.\n",
    "\n",
    "<H2>Task 1.1: Load the Dataset</H2>\n",
    "Load the dataset using the pandas.read_csv() function.\n",
    "Display the first 5 rows of the dataset to understand the structure.\n",
    "Hint: Use the pd.read_csv() function to load the dataset and the head() function to display the top rows."
   ]
  },
  {
   "cell_type": "code",
   "execution_count": null,
   "id": "585bf023-e80d-460a-b409-4f37d0b09b4e",
   "metadata": {},
   "outputs": [],
   "source": [
    "import pandas as pd\n",
    "\n",
    "df = pd.read_csv('crime_data.csv')\n",
    "\n",
    "print(df.head())"
   ]
  },
  {
   "cell_type": "markdown",
   "id": "7baabd03-e6c2-4be1-a97d-4b607d9f87f8",
   "metadata": {},
   "source": [
    "## Task 1.2: Handling Missing Values\n",
    "Identify any missing values in the dataset.\n",
    "Use an appropriate method (such as filling with the mean) to handle missing values in numerical columns.\n",
    "Hint: Use isnull() to find missing values and fillna() to fill them with a suitable method.\n"
   ]
  },
  {
   "cell_type": "code",
   "execution_count": null,
   "id": "a9c277bf-a84b-4bee-8c07-b7dd24acedd9",
   "metadata": {},
   "outputs": [],
   "source": [
    "print(df.isnull().sum())\n",
    "\n",
    "df['Murder'] = df['Murder'].fillna(df['Murder'].mean())\n",
    "\n",
    "print(df.head())"
   ]
  },
  {
   "cell_type": "markdown",
   "id": "003226c1-4463-497e-93b2-e6b7fa17e648",
   "metadata": {},
   "source": [
    "## Task 1.3: Smoothing Noisy Data\n",
    "Identify potential outliers in the dataset. You can use either statistical methods like the Interquartile Range (IQR) or visual methods like boxplots to identify them.\n",
    "Replace or remove the outliers.\n",
    "Hint: Use describe() to get a statistical summary and boxplot() to visualise the data.\n"
   ]
  },
  {
   "cell_type": "code",
   "execution_count": null,
   "id": "de8ae1d6-3611-4db9-8902-33cdcd835f7c",
   "metadata": {},
   "outputs": [],
   "source": [
    "import matplotlib.pyplot as plt\n",
    "\n",
    "for col in df:\n",
    "    Q1 = df[col].quantile(0.25)\n",
    "    Q3 = df[col].quantile(0.75)\n",
    "    IQR = Q3 - Q1\n",
    "    lower_bound = Q1 - 1.5 * IQR\n",
    "    upper_bound = Q3 + 1.5 * IQR\n",
    "\n",
    "\n",
    "    # Identify outliers\n",
    "    outliers = df[(df[col] < lower_bound) | (df[col] > upper_bound)]\n",
    "\n",
    "    # Handle outliers (e.g., replace with mean or median)\n",
    "    df.loc[df[col] < lower_bound, col] = df[col].mean()\n",
    "    df.loc[df[col] > upper_bound, col] = df[col].mean()\n",
    "\n",
    "# Create boxplots\n",
    "df.boxplot()\n",
    "plt.show()"
   ]
  },
  {
   "cell_type": "markdown",
   "id": "1d31d314-28d1-4aed-958f-157fe054c4f7",
   "metadata": {},
   "source": [
    "## Task 1.4: Categorising the Urban Population\n",
    "Convert the urban population percentage into categories such as:\n",
    "Small (<50%)\n",
    "Medium (50%-60%)\n",
    "Large (60%-70%)\n",
    "Extra-Large (>70%)\n",
    "Hint: Write a function to create these categories and apply it using the apply() function."
   ]
  },
  {
   "cell_type": "code",
   "execution_count": null,
   "id": "1176036f-7cb4-4d6f-a138-25bed8572fcd",
   "metadata": {},
   "outputs": [],
   "source": []
  },
  {
   "cell_type": "markdown",
   "id": "9ffd53eb-a15f-42a6-8035-d67c586098cd",
   "metadata": {},
   "source": [
    "# Part 2: Data Cleaning and Analysis of Bridges\n",
    "Dataset: Bridges in Pittsburgh (bridges_data.csv)\n",
    "This dataset contains attributes like the length of the bridge, number of lanes, and the material used. You will clean and analyse this dataset."
   ]
  },
  {
   "cell_type": "markdown",
   "id": "7d1886e9-eae3-4f0b-8a3a-5f9447cbdf0b",
   "metadata": {},
   "source": [
    "## Task 2.1: Load the Dataset\n",
    "Load the dataset using the pandas.read_csv() function.\n",
    "Display the first few rows of the dataset.\n",
    "python"
   ]
  },
  {
   "cell_type": "code",
   "execution_count": null,
   "id": "fad3c7dc-06f3-47c9-aa9e-ae5296e4a889",
   "metadata": {},
   "outputs": [],
   "source": [
    "import pandas as pd\n",
    "\n",
    "df = pd.read_csv('bridges_data.csv')\n",
    "\n",
    "print(df.head())"
   ]
  },
  {
   "cell_type": "markdown",
   "id": "1428474b-a367-4c6f-94fb-1627aac2d2be",
   "metadata": {},
   "source": [
    "## Task 2.2: Handling Missing Values\n",
    "Identify any missing values in the dataset.\n",
    "Replace missing values using a suitable method (e.g., mean or median).\n",
    "Hint: Use fillna() to handle missing values.\n"
   ]
  },
  {
   "cell_type": "code",
   "execution_count": null,
   "id": "a75f7d7d-e21b-45c8-939a-42504f86776e",
   "metadata": {},
   "outputs": [],
   "source": [
    "print(df.isnull().sum())\n",
    "\n",
    "df.fillna(df.mean(), inplace=True)\n",
    "\n",
    "print(df.head())"
   ]
  },
  {
   "cell_type": "markdown",
   "id": "dc7fe718-fa39-470c-bb10-b3e1a52ba984",
   "metadata": {},
   "source": [
    "## Task 2.3: Analyse the Relation between Bridge Characteristics\n",
    "Analyse the relationships between:\n",
    "Bridge length and its purpose.\n",
    "Number of lanes and material used.\n",
    "Span and number of lanes.\n",
    "Hint: Use groupby() and plotting functions to explore relationships."
   ]
  },
  {
   "cell_type": "code",
   "execution_count": null,
   "id": "589ea663-50e3-4417-a52e-028daad80171",
   "metadata": {},
   "outputs": [],
   "source": [
    "import matplotlib.pyplot as plt\n",
    "import seaborn as sns\n",
    "\n",
    "avg_length_by_purpose = df.groupby('purpose')['length'].mean()\n",
    "\n",
    "plt.figure(figsize=(10, 6))\n",
    "sns.barplot(x=avg_length_by_purpose.index, y=avg_length_by_purpose.values)\n",
    "plt.title('Average Bridge Length by Purpose')\n",
    "plt.xlabel('Purpose')\n",
    "plt.ylabel('Average Length')\n",
    "plt.show()\n",
    "\n",
    "avg_lanes_by_material = df.groupby('material')['number_of_lanes'].mean()\n",
    "\n",
    "plt.figure(figsize=(10, 6))\n",
    "sns.barplot(x=avg_lanes_by_material.index, y=avg_lanes_by_material.values)\n",
    "plt.title('Average Number of Lanes by Material')\n",
    "plt.xlabel('Material')\n",
    "plt.ylabel('Average Number of Lanes')\n",
    "plt.show()\n",
    "\n",
    "plt.figure(figsize=(10, 6))\n",
    "sns.scatterplot(x=df['span'], y=df['number_of_lanes'])\n",
    "plt.title('Relationship Between Span and Number of Lanes')\n",
    "plt.xlabel('Span')\n",
    "plt.ylabel('Number of Lanes')\n",
    "plt.show()"
   ]
  },
  {
   "cell_type": "markdown",
   "id": "854a54bb-0cba-4557-a60a-c516596e0ce4",
   "metadata": {},
   "source": [
    "# Part 3: Child Mortality Analysis\n",
    "Dataset: Child Mortality (child_mortality.csv)\n",
    "This dataset contains information about child mortality rates (under-five, infant, and neonatal mortality rates) over several years."
   ]
  },
  {
   "cell_type": "markdown",
   "id": "0a527bab-e86f-4c17-ba1b-3b9d61acecb1",
   "metadata": {},
   "source": [
    "## Task 3.1: Load the Dataset\n",
    "Load the dataset using the pandas.read_csv() function.\n",
    "Display the first few rows of the dataset."
   ]
  },
  {
   "cell_type": "code",
   "execution_count": null,
   "id": "8a0e2329-1c13-40f9-927e-28dc035665b7",
   "metadata": {},
   "outputs": [],
   "source": [
    "import pandas as pd\n",
    "\n",
    "df = pd.read_csv('child_mortality.csv')\n",
    "\n",
    "print(df.head())"
   ]
  },
  {
   "cell_type": "markdown",
   "id": "3b59f516-580b-43f5-a60c-2345fd0a4712",
   "metadata": {},
   "source": [
    "## Task 3.2: Handle Missing Data\n",
    "Identify missing values in the dataset and handle them using appropriate strategies like interpolation.\n",
    "Hint: Use the interpolate() function to fill missing values based on neighbouring values.\n"
   ]
  },
  {
   "cell_type": "code",
   "execution_count": null,
   "id": "63a4df98-527d-4bd9-8672-2ea7e37a5014",
   "metadata": {},
   "outputs": [],
   "source": [
    "print(df.isnull().sum())\n",
    "\n",
    "df.interpolate(method='linear', inplace=True)\n",
    "\n",
    "print(df.head())"
   ]
  },
  {
   "cell_type": "markdown",
   "id": "4de900d2-85e0-46ac-9ffb-6c26efc44c19",
   "metadata": {},
   "source": [
    "## Task 3.3: Visualisation\n",
    "Create a line plot to show the trends in under-five mortality, infant mortality, and neonatal mortality over the years.\n",
    "Hint: Use the plot() function to create line plots."
   ]
  },
  {
   "cell_type": "code",
   "execution_count": null,
   "id": "51ec4a30-1083-4448-adda-7b05c24d882f",
   "metadata": {},
   "outputs": [],
   "source": [
    "import matplotlib.pyplot as plt\n",
    "\n",
    "df.set_index('Year', inplace=True)\n",
    "\n",
    "df.plot(kind='line', figsize=(10, 6))\n",
    "\n",
    "plt.title('Trends in Child Mortality')\n",
    "plt.xlabel('Year')\n",
    "plt.ylabel('Mortality Rate')\n",
    "plt.legend(loc='upper left')\n",
    "\n",
    "plt.show()"
   ]
  },
  {
   "cell_type": "markdown",
   "id": "e53ab814-3dd7-4b49-a0e9-709063179088",
   "metadata": {},
   "source": [
    "## Task 3.4: Analysis\n",
    "Identify the year with the greatest reduction in under-five mortality rate.\n",
    "Investigate any trends between infant mortality and neonatal mortality over the years.\n",
    "Hint: Use diff() to calculate reductions and corr() to investigate trends between the columns.\n"
   ]
  },
  {
   "cell_type": "code",
   "execution_count": null,
   "id": "e7e45f67-1c7d-42a3-8d71-c4f0582e4359",
   "metadata": {},
   "outputs": [],
   "source": [
    "df['Under-five-mortality-rate_reduction'] = df['Under-five-mortality-rate'].diff()\n",
    "\n",
    "year_of_greatest_reduction = df['Under-five-mortality-rate_reduction'].idxmax()\n",
    "\n",
    "correlation = df[['Infant-mortality-rate', 'Neonatal-mortality-rate']].corr()\n",
    "\n",
    "print(\"Year with greatest reduction in under-five mortality:\", year_of_greatest_reduction, \"\\n\")\n",
    "print(\"Correlation between infant and neonatal mortality:\\n\", correlation, \"\\n\\n\")"
   ]
  },
  {
   "cell_type": "markdown",
   "id": "eaac0032-fea8-4845-8688-b522022dcf0c",
   "metadata": {},
   "source": [
    "# Submission\n",
    "Make sure to submit your Python code with comments explaining the steps and results. Reflect on the insights you gained from the exercises.Tasks:"
   ]
  }
 ],
 "metadata": {
  "kernelspec": {
   "display_name": "Python 3 (ipykernel)",
   "language": "python",
   "name": "python3"
  },
  "language_info": {
   "codemirror_mode": {
    "name": "ipython",
    "version": 3
   },
   "file_extension": ".py",
   "mimetype": "text/x-python",
   "name": "python",
   "nbconvert_exporter": "python",
   "pygments_lexer": "ipython3",
   "version": "3.12.4"
  }
 },
 "nbformat": 4,
 "nbformat_minor": 5
}
